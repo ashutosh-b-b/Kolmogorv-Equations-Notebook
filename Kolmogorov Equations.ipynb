{
 "cells": [
  {
   "cell_type": "code",
   "execution_count": 1,
   "metadata": {},
   "outputs": [
    {
     "name": "stderr",
     "output_type": "stream",
     "text": [
      "┌ Info: CUDAdrv.jl failed to initialize, GPU functionality unavailable (set JULIA_CUDA_SILENT or JULIA_CUDA_VERBOSE to silence or expand this message)\n",
      "└ @ CUDAdrv /Users/bb/.julia/packages/CUDAdrv/b1mvw/src/CUDAdrv.jl:67\n"
     ]
    }
   ],
   "source": [
    "using Flux , Distributions , DifferentialEquations\n",
    "using Base.Iterators: repeated\n",
    "using Flux.Data.MNIST"
   ]
  },
  {
   "cell_type": "code",
   "execution_count": 3,
   "metadata": {},
   "outputs": [
    {
     "data": {
      "text/plain": [
       "phi (generic function with 1 method)"
      ]
     },
     "execution_count": 3,
     "metadata": {},
     "output_type": "execute_result"
    }
   ],
   "source": [
    "function phi(x)\n",
    "    return sum(x.^2, dims=1)\n",
    "end        "
   ]
  },
  {
   "cell_type": "code",
   "execution_count": 4,
   "metadata": {},
   "outputs": [
    {
     "data": {
      "text/plain": [
       "1000"
      ]
     },
     "execution_count": 4,
     "metadata": {},
     "output_type": "execute_result"
    }
   ],
   "source": [
    "d = 10\n",
    "T = 1.0\n",
    "num_samples = 1000"
   ]
  },
  {
   "cell_type": "code",
   "execution_count": 5,
   "metadata": {},
   "outputs": [
    {
     "data": {
      "text/plain": [
       "10×1000 Array{Float64,2}:\n",
       " 0.383458  0.948418   0.247086   0.796964  …  0.398945  0.643064  0.916923 \n",
       " 0.534082  0.377529   0.407166   0.591351     0.277371  0.881913  0.627506 \n",
       " 0.956493  0.130554   0.0151838  0.307506     0.994351  0.446721  0.664145 \n",
       " 0.694612  0.0065483  0.803769   0.163412     0.697235  0.77661   0.0346157\n",
       " 0.962779  0.868907   0.586146   0.739943     0.718693  0.892328  0.506592 \n",
       " 0.976926  0.151219   0.148845   0.391477  …  0.582533  0.469572  0.0569227\n",
       " 0.639683  0.327828   0.723714   0.259486     0.967146  0.657627  0.986668 \n",
       " 0.958816  0.403926   0.467515   0.457937     0.658228  0.934489  0.162377 \n",
       " 0.947779  0.420736   0.610676   0.145043     0.712135  0.643412  0.649774 \n",
       " 0.718469  0.9469     0.994857   0.366016     0.999084  0.730869  0.417754 "
      ]
     },
     "execution_count": 5,
     "metadata": {},
     "output_type": "execute_result"
    }
   ],
   "source": [
    "xi = rand(Uniform(0. , 1.) , d , num_samples)"
   ]
  },
  {
   "cell_type": "code",
   "execution_count": 6,
   "metadata": {},
   "outputs": [
    {
     "data": {
      "text/plain": [
       "Normal{Float64}(μ=0.0, σ=1.4142135623730951)"
      ]
     },
     "execution_count": 6,
     "metadata": {},
     "output_type": "execute_result"
    }
   ],
   "source": [
    "N = Normal(0 , sqrt(2*T))"
   ]
  },
  {
   "cell_type": "code",
   "execution_count": 7,
   "metadata": {},
   "outputs": [
    {
     "data": {
      "text/plain": [
       "10×1000 Array{Float64,2}:\n",
       "  0.756758     1.58237    -0.895761  …   1.7693     -2.86815    0.742072\n",
       " -1.28205     -0.430521    1.05164       0.792912    4.41202    0.345062\n",
       "  0.563201    -2.13748    -2.93591      -0.186056    1.34653   -0.196038\n",
       "  0.407215     2.20508     0.531844      2.52158     0.51678   -0.99932 \n",
       "  2.01086      1.65753     1.65626       3.71559    -0.112249   2.63943 \n",
       " -0.43166      0.336837    1.04138   …   0.0910626  -1.92788   -1.45193 \n",
       " -1.80723      0.0654994  -0.368803      0.208969    1.2116     1.35346 \n",
       "  0.779907     1.05132     0.901446      2.50425     0.544318   0.786075\n",
       "  1.83633     -0.749998    0.615953      0.275813   -0.429606  -0.769445\n",
       " -0.00637268   1.31991     1.9608        0.435173   -3.00777    0.61558 "
      ]
     },
     "execution_count": 7,
     "metadata": {},
     "output_type": "execute_result"
    }
   ],
   "source": [
    "x_sde = xi + rand(N , d , num_samples)"
   ]
  },
  {
   "cell_type": "code",
   "execution_count": 8,
   "metadata": {},
   "outputs": [
    {
     "data": {
      "text/plain": [
       "1×1000 Array{Float64,2}:\n",
       " 14.1758  18.3955  19.8112  36.9394  …  21.752  30.5465  44.4972  14.2022"
      ]
     },
     "execution_count": 8,
     "metadata": {},
     "output_type": "execute_result"
    }
   ],
   "source": [
    "y = phi(x_sde)"
   ]
  },
  {
   "cell_type": "code",
   "execution_count": 9,
   "metadata": {},
   "outputs": [
    {
     "data": {
      "text/plain": [
       "Chain(Dense(10, 128, tanh), Dense(128, 256, tanh), Dense(256, 256, tanh), Dense(256, 128, tanh), Dense(128, 1))"
      ]
     },
     "execution_count": 9,
     "metadata": {},
     "output_type": "execute_result"
    }
   ],
   "source": [
    "chain = Flux.Chain(Dense(10,128,tanh),Dense(128,256 ,tanh ) , Dense(256,256 ,tanh) , Dense(256,128 ,tanh) , Dense(128 , 1) )"
   ]
  },
  {
   "cell_type": "code",
   "execution_count": 15,
   "metadata": {},
   "outputs": [
    {
     "data": {
      "text/plain": [
       "evalcbw (generic function with 1 method)"
      ]
     },
     "execution_count": 15,
     "metadata": {},
     "output_type": "execute_result"
    }
   ],
   "source": [
    "loss(x , y) =Flux.mse(chain(x), y)\n",
    "function evalcbw()\n",
    "    @show loss(x_sde , y)\n",
    "end"
   ]
  },
  {
   "cell_type": "code",
   "execution_count": 16,
   "metadata": {},
   "outputs": [
    {
     "name": "stdout",
     "output_type": "stream",
     "text": [
      "loss(x_sde, y) = 499.8660351067217\n",
      "loss(x_sde, y) = 452.79884663536166\n",
      "loss(x_sde, y) = 410.8481486642088\n",
      "loss(x_sde, y) = 376.05022522068333\n",
      "loss(x_sde, y) = 348.91070007257156\n",
      "loss(x_sde, y) = 328.67086769344104\n",
      "loss(x_sde, y) = 314.01901175233473\n",
      "loss(x_sde, y) = 303.56606946006053\n",
      "loss(x_sde, y) = 296.0272775601717\n",
      "loss(x_sde, y) = 290.301940074372\n",
      "loss(x_sde, y) = 285.5565351725442\n",
      "loss(x_sde, y) = 281.31532379474777\n",
      "loss(x_sde, y) = 277.46763957998144\n",
      "loss(x_sde, y) = 274.05541669398514\n",
      "loss(x_sde, y) = 270.9825083751451\n",
      "loss(x_sde, y) = 268.00623169141716\n",
      "loss(x_sde, y) = 264.930952635702\n",
      "loss(x_sde, y) = 261.6901058704401\n",
      "loss(x_sde, y) = 258.2786048370626\n",
      "loss(x_sde, y) = 254.6671522635918\n",
      "loss(x_sde, y) = 250.8005239970139\n",
      "loss(x_sde, y) = 246.65789505199612\n",
      "loss(x_sde, y) = 242.295858433068\n",
      "loss(x_sde, y) = 237.8445886894246\n",
      "loss(x_sde, y) = 233.4405379534794\n",
      "loss(x_sde, y) = 229.11484171947987\n",
      "loss(x_sde, y) = 224.76234566964246\n",
      "loss(x_sde, y) = 220.2383910938496\n",
      "loss(x_sde, y) = 215.46551202747025\n",
      "loss(x_sde, y) = 210.46069842161467\n",
      "loss(x_sde, y) = 205.2788575265724\n",
      "loss(x_sde, y) = 199.9391710626337\n",
      "loss(x_sde, y) = 194.40301311633954\n",
      "loss(x_sde, y) = 188.59050700444098\n",
      "loss(x_sde, y) = 182.4020319832155\n",
      "loss(x_sde, y) = 175.76121051317838\n",
      "loss(x_sde, y) = 168.6304875493096\n",
      "loss(x_sde, y) = 160.9680476264159\n",
      "loss(x_sde, y) = 152.87377502101128\n",
      "loss(x_sde, y) = 144.76774414277057\n",
      "loss(x_sde, y) = 137.14745256976485\n",
      "loss(x_sde, y) = 130.58323626172933\n",
      "loss(x_sde, y) = 126.48599811343824\n",
      "loss(x_sde, y) = 125.60780283463272\n",
      "loss(x_sde, y) = 126.25618823471355\n",
      "loss(x_sde, y) = 125.841786743022\n",
      "loss(x_sde, y) = 123.60178576739686\n",
      "loss(x_sde, y) = 120.65167596112695\n",
      "loss(x_sde, y) = 117.9169094756485\n",
      "loss(x_sde, y) = 115.64054779840036\n",
      "loss(x_sde, y) = 113.81848302053352\n",
      "loss(x_sde, y) = 112.39964576498583\n",
      "loss(x_sde, y) = 111.30900329749309\n",
      "loss(x_sde, y) = 110.45966560813007\n",
      "loss(x_sde, y) = 109.77191501756928\n",
      "loss(x_sde, y) = 109.18467038242648\n",
      "loss(x_sde, y) = 108.65828995833925\n",
      "loss(x_sde, y) = 108.17179062404922\n",
      "loss(x_sde, y) = 107.71673857297303\n",
      "loss(x_sde, y) = 107.29035674745597\n",
      "loss(x_sde, y) = 106.89081823508495\n",
      "loss(x_sde, y) = 106.51620731428622\n",
      "loss(x_sde, y) = 106.16548126603996\n",
      "loss(x_sde, y) = 105.83905147041348\n",
      "loss(x_sde, y) = 105.53818576193733\n",
      "loss(x_sde, y) = 105.26398222464822\n",
      "loss(x_sde, y) = 105.01656848969068\n",
      "loss(x_sde, y) = 104.79492459790559\n",
      "loss(x_sde, y) = 104.59715246994558\n",
      "loss(x_sde, y) = 104.42096511392182\n",
      "loss(x_sde, y) = 104.2639762449654\n",
      "loss(x_sde, y) = 104.12395152045768\n",
      "loss(x_sde, y) = 103.99888599999008\n",
      "loss(x_sde, y) = 103.88704236422015\n",
      "loss(x_sde, y) = 103.78691043552205\n",
      "loss(x_sde, y) = 103.69719869747692\n",
      "loss(x_sde, y) = 103.6168054733748\n",
      "loss(x_sde, y) = 103.54474681591009\n",
      "loss(x_sde, y) = 103.4801822382993\n",
      "loss(x_sde, y) = 103.42236909576762\n",
      "loss(x_sde, y) = 103.37064399242043\n",
      "loss(x_sde, y) = 103.32441475225102\n",
      "loss(x_sde, y) = 103.28315607456584\n",
      "loss(x_sde, y) = 103.24636784686935\n",
      "loss(x_sde, y) = 103.21361478420589\n",
      "loss(x_sde, y) = 103.18449712433807\n",
      "loss(x_sde, y) = 103.15863733554824\n",
      "loss(x_sde, y) = 103.13569567735881\n",
      "loss(x_sde, y) = 103.11535470025743\n",
      "loss(x_sde, y) = 103.09732267865341\n",
      "loss(x_sde, y) = 103.08132485622595\n",
      "loss(x_sde, y) = 103.06713912329572\n",
      "loss(x_sde, y) = 103.05453686798046\n",
      "loss(x_sde, y) = 103.04333496875535\n",
      "loss(x_sde, y) = 103.03336044908468\n",
      "loss(x_sde, y) = 103.0244524180332\n",
      "loss(x_sde, y) = 103.01649119560093\n",
      "loss(x_sde, y) = 103.00936403462009\n",
      "loss(x_sde, y) = 103.00297362556731\n",
      "loss(x_sde, y) = 102.9972167114175\n",
      "loss(x_sde, y) = 102.99202644398592\n",
      "loss(x_sde, y) = 102.98729026195305\n",
      "loss(x_sde, y) = 102.98291170153152\n",
      "loss(x_sde, y) = 102.97877780188524\n",
      "loss(x_sde, y) = 102.97476919144805\n",
      "loss(x_sde, y) = 102.9707846909525\n",
      "loss(x_sde, y) = 102.96672681913302\n",
      "loss(x_sde, y) = 102.9625190541036\n",
      "loss(x_sde, y) = 102.9581595159604\n",
      "loss(x_sde, y) = 102.95364798582813\n",
      "loss(x_sde, y) = 102.94902146099291\n",
      "loss(x_sde, y) = 102.94433779215309\n",
      "loss(x_sde, y) = 102.93964256446797\n",
      "loss(x_sde, y) = 102.93498197031282\n",
      "loss(x_sde, y) = 102.93035966509035\n",
      "loss(x_sde, y) = 102.92581179001526\n",
      "loss(x_sde, y) = 102.92127174547751\n",
      "loss(x_sde, y) = 102.91673258288581\n",
      "loss(x_sde, y) = 102.91212513602531\n",
      "loss(x_sde, y) = 102.90741835955511\n",
      "loss(x_sde, y) = 102.90254526205477\n",
      "loss(x_sde, y) = 102.89746607964634\n",
      "loss(x_sde, y) = 102.8921419632313\n",
      "loss(x_sde, y) = 102.88652806552665\n",
      "loss(x_sde, y) = 102.88061540124455\n",
      "loss(x_sde, y) = 102.87437849993246\n",
      "loss(x_sde, y) = 102.86782955634801\n",
      "loss(x_sde, y) = 102.86098573509352\n",
      "loss(x_sde, y) = 102.85388245582433\n",
      "loss(x_sde, y) = 102.84658789719273\n",
      "loss(x_sde, y) = 102.83920390638659\n",
      "loss(x_sde, y) = 102.83183800433157\n",
      "loss(x_sde, y) = 102.82463271862454\n",
      "loss(x_sde, y) = 102.81772517631366\n",
      "loss(x_sde, y) = 102.8112641872971\n",
      "loss(x_sde, y) = 102.80534067210012\n",
      "loss(x_sde, y) = 102.80001008186419\n",
      "loss(x_sde, y) = 102.79519388404631\n",
      "loss(x_sde, y) = 102.79074737241025\n",
      "loss(x_sde, y) = 102.78643421401819\n",
      "loss(x_sde, y) = 102.7819929371848\n",
      "loss(x_sde, y) = 102.77721477414131\n",
      "loss(x_sde, y) = 102.77201861334122\n",
      "loss(x_sde, y) = 102.76645216699448\n",
      "loss(x_sde, y) = 102.76067702330309\n",
      "loss(x_sde, y) = 102.75489666018646\n",
      "loss(x_sde, y) = 102.74928466808433\n",
      "loss(x_sde, y) = 102.74397893360597\n",
      "loss(x_sde, y) = 102.73903622828371\n",
      "loss(x_sde, y) = 102.73445329716175\n",
      "loss(x_sde, y) = 102.73017332666826\n"
     ]
    },
    {
     "ename": "InterruptException",
     "evalue": "InterruptException:",
     "output_type": "error",
     "traceback": [
      "InterruptException:",
      "",
      "Stacktrace:",
      " [1] NamedTuple at ./boot.jl:553 [inlined]",
      " [2] NamedTuple at ./boot.jl:549 [inlined]",
      " [3] macro expansion at /Users/bb/.julia/packages/Zygote/tJj2w/src/lib/lib.jl:19 [inlined]",
      " [4] accum at /Users/bb/.julia/packages/Zygote/tJj2w/src/lib/lib.jl:19 [inlined]",
      " [5] accum at /Users/bb/.julia/packages/Zygote/tJj2w/src/lib/lib.jl:13 [inlined]",
      " [6] (::typeof(∂(invoke)))(::Array{Float64,2}) at /Users/bb/.julia/packages/Zygote/tJj2w/src/compiler/interface2.jl:0",
      " [7] Dense at /Users/bb/.julia/packages/Flux/2i5P1/src/layers/basic.jl:113 [inlined]",
      " [8] applychain at /Users/bb/.julia/packages/Flux/2i5P1/src/layers/basic.jl:30 [inlined] (repeats 3 times)",
      " [9] Chain at /Users/bb/.julia/packages/Flux/2i5P1/src/layers/basic.jl:32 [inlined]",
      " [10] (::typeof(∂(λ)))(::Array{Float64,2}) at /Users/bb/.julia/packages/Zygote/tJj2w/src/compiler/interface2.jl:0",
      " [11] loss at ./In[15]:1 [inlined]",
      " [12] (::typeof(∂(loss)))(::Float64) at /Users/bb/.julia/packages/Zygote/tJj2w/src/compiler/interface2.jl:0",
      " [13] #165 at /Users/bb/.julia/packages/Zygote/tJj2w/src/lib/lib.jl:156 [inlined]",
      " [14] #321#back at /Users/bb/.julia/packages/ZygoteRules/6nssF/src/adjoint.jl:49 [inlined]",
      " [15] #15 at /Users/bb/.julia/packages/Flux/2i5P1/src/optimise/train.jl:69 [inlined]",
      " [16] (::typeof(∂(λ)))(::Float64) at /Users/bb/.julia/packages/Zygote/tJj2w/src/compiler/interface2.jl:0",
      " [17] (::Zygote.var\"#46#47\"{Zygote.Params,Zygote.Context,typeof(∂(λ))})(::Float64) at /Users/bb/.julia/packages/Zygote/tJj2w/src/compiler/interface.jl:101",
      " [18] gradient(::Function, ::Zygote.Params) at /Users/bb/.julia/packages/Zygote/tJj2w/src/compiler/interface.jl:47",
      " [19] macro expansion at /Users/bb/.julia/packages/Flux/2i5P1/src/optimise/train.jl:68 [inlined]",
      " [20] macro expansion at /Users/bb/.julia/packages/Juno/oLB1d/src/progress.jl:134 [inlined]",
      " [21] #train!#12(::typeof(evalcbw), ::typeof(Flux.Optimise.train!), ::Function, ::Zygote.Params, ::Base.Iterators.Take{Base.Iterators.Repeated{Tuple{Array{Float64,2},Array{Float64,2}}}}, ::ADAM) at /Users/bb/.julia/packages/Flux/2i5P1/src/optimise/train.jl:66",
      " [22] (::Flux.Optimise.var\"#kw##train!\")(::NamedTuple{(:cb,),Tuple{typeof(evalcbw)}}, ::typeof(Flux.Optimise.train!), ::Function, ::Zygote.Params, ::Base.Iterators.Take{Base.Iterators.Repeated{Tuple{Array{Float64,2},Array{Float64,2}}}}, ::ADAM) at ./none:0",
      " [23] top-level scope at In[16]:4"
     ]
    }
   ],
   "source": [
    "dataset = repeated((x_sde, y), 1000)\n",
    "max_err = 10000\n",
    "opt = ADAM()\n",
    "Flux.train!(loss, Flux.params(chain),dataset, opt, cb = evalcbw)"
   ]
  },
  {
   "cell_type": "code",
   "execution_count": null,
   "metadata": {},
   "outputs": [],
   "source": []
  },
  {
   "cell_type": "code",
   "execution_count": 17,
   "metadata": {},
   "outputs": [
    {
     "data": {
      "text/plain": [
       "1×1000 Array{Float32,2}:\n",
       " 23.5582  23.5599  23.5533  23.5614  …  23.5473  23.5615  23.518  23.5575"
      ]
     },
     "execution_count": 17,
     "metadata": {},
     "output_type": "execute_result"
    }
   ],
   "source": [
    "chain(x_sde)"
   ]
  },
  {
   "cell_type": "code",
   "execution_count": 18,
   "metadata": {},
   "outputs": [
    {
     "data": {
      "text/plain": [
       "1×1000 Array{Float64,2}:\n",
       " 14.1758  18.3955  19.8112  36.9394  …  21.752  30.5465  44.4972  14.2022"
      ]
     },
     "execution_count": 18,
     "metadata": {},
     "output_type": "execute_result"
    }
   ],
   "source": [
    "y"
   ]
  },
  {
   "cell_type": "code",
   "execution_count": null,
   "metadata": {},
   "outputs": [],
   "source": []
  },
  {
   "cell_type": "code",
   "execution_count": null,
   "metadata": {},
   "outputs": [],
   "source": []
  },
  {
   "cell_type": "code",
   "execution_count": null,
   "metadata": {},
   "outputs": [],
   "source": []
  },
  {
   "cell_type": "code",
   "execution_count": 174,
   "metadata": {},
   "outputs": [
    {
     "data": {
      "text/plain": [
       "1×1000 Array{Float64,2}:\n",
       " 16.0786  7.67469  9.98907  30.2885  …  20.2667  16.2465  33.5881  32.3608"
      ]
     },
     "execution_count": 174,
     "metadata": {},
     "output_type": "execute_result"
    }
   ],
   "source": []
  },
  {
   "cell_type": "code",
   "execution_count": null,
   "metadata": {},
   "outputs": [],
   "source": []
  }
 ],
 "metadata": {
  "kernelspec": {
   "display_name": "Julia 1.3.1",
   "language": "julia",
   "name": "julia-1.3"
  },
  "language_info": {
   "file_extension": ".jl",
   "mimetype": "application/julia",
   "name": "julia",
   "version": "1.3.1"
  }
 },
 "nbformat": 4,
 "nbformat_minor": 2
}
